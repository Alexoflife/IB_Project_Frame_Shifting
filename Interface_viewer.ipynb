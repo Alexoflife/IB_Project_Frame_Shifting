{
 "cells": [
  {
   "cell_type": "markdown",
   "metadata": {},
   "source": [
    "# Интерфейс базы данных"
   ]
  },
  {
   "cell_type": "markdown",
   "metadata": {},
   "source": [
    "<p style=\"align: center;\"><img align=center src=\"images/interface_home.PNG\"  width=900></p>\n"
   ]
  },
  {
   "cell_type": "markdown",
   "metadata": {},
   "source": [
    "# Откроем вкладку c организмами"
   ]
  },
  {
   "cell_type": "markdown",
   "metadata": {},
   "source": [
    "<p style=\"align: center;\"><img align=center src=\"images/interface_main.PNG\"  width=900></p>\n"
   ]
  },
  {
   "cell_type": "markdown",
   "metadata": {},
   "source": [
    "# Теперь выберем интересущий нас организм"
   ]
  },
  {
   "cell_type": "markdown",
   "metadata": {},
   "source": [
    "**Видим некоторую информацию про гены со сдвигом рамки считывания**"
   ]
  },
  {
   "cell_type": "markdown",
   "metadata": {},
   "source": [
    "<p style=\"align: center;\"><img align=center src=\"images/interface_1.PNG\"  width=900></p>\n"
   ]
  },
  {
   "cell_type": "markdown",
   "metadata": {},
   "source": [
    "<div class=\"alert alert-info\">\n",
    "<b>Updates</b>\n",
    "    \n",
    "Данная таблица не очень информативна. Визуализируем ее с помощью специальных фрэймворков такие как `DNA Features Viewer`\n",
    "</div>"
   ]
  },
  {
   "cell_type": "code",
   "execution_count": 1,
   "metadata": {},
   "outputs": [
    {
     "name": "stderr",
     "output_type": "stream",
     "text": [
      "\n",
      "Bad key \"text.kerning_factor\" on line 4 in\n",
      "D:\\Users\\sasha\\Anaconda3\\lib\\site-packages\\matplotlib\\mpl-data\\stylelib\\_classic_test_patch.mplstyle.\n",
      "You probably need to get an updated matplotlibrc file from\n",
      "http://github.com/matplotlib/matplotlib/blob/master/matplotlibrc.template\n",
      "or from the matplotlib source distribution\n"
     ]
    }
   ],
   "source": [
    "from dna_features_viewer import GraphicFeature, GraphicRecord\n",
    "\n",
    "features=[\n",
    "    GraphicFeature(start=80, end=80, strand=0, color= \"#ccccff\", label=\"DACI_RS09960\"),\n",
    "    GraphicFeature(start=50, end=120, strand=+1, color= \"#ccccff\",thickness=17, label=\"cobS\"),    \n",
    "    \n",
    "\n",
    "    GraphicFeature(start=200, end=200, strand=0, color= \"#ccccff\", label=\"DACI_RS29040\"),\n",
    "    GraphicFeature(start=150, end=270, strand=+1, color= \"#ccccff\", label=\"cobT\"),    \n",
    "    \n",
    "\n",
    "    GraphicFeature(start=325, end=328, strand=0, color=\"#ffd700\"),\n",
    "    GraphicFeature(start=330, end=330, strand=0, color=\"#ffd700\", label=\"about 4M \\n nucleotides\"),\n",
    "    GraphicFeature(start=332, end=335, strand=0, color=\"#ffd700\"),\n",
    "\n",
    "\n",
    "    GraphicFeature(start=440, end=442, strand=0, color=\"#cffccc\", label=\"DACI_RS29040\\n DACI_RS29035\"), \n",
    "    GraphicFeature(start=380, thickness=14, end=440, strand=-1, color=\"#cffccc\", label=\"chlD\"),\n",
    "    GraphicFeature(start=442, end=448, strand=0, color=\"#ffcccc\"),  \n",
    "    GraphicFeature(start=448, thickness=14, end=490, strand=0, color=\"#cffccc\"),    \n",
    "    \n",
    "    \n",
    "    \n",
    "    \n",
    "    GraphicFeature(start=570, end=570, strand=0, color=\"#cffccc\" , label=\"DACI_RS29045\"),    \n",
    "    GraphicFeature(start=490, end=640, strand=-1, color=\"#cffccc\", label=\"cobN\"),  #ffcccc\n",
    "    \n",
    "]\n",
    "record = GraphicRecord(sequence_length=700, features = features,feature_level_height = 2)\n",
    "record.plot(figure_width=15, figure_height=3);\n",
    " "
   ]
  },
  {
   "cell_type": "markdown",
   "metadata": {},
   "source": [
    "<!-- <p style=\"align: center;\"><img align=center src=\"images/examples.PNG\"  width=500></p>\n",
    " -->"
   ]
  },
  {
   "cell_type": "markdown",
   "metadata": {},
   "source": [
    "<div class=\"alert alert-info\">\n",
    "<b>Такая визуализация намного полезнее и вот почему:</b>\n",
    "   \n",
    "Ген `chlD` может функционировать в составе с кобальт хелотазой, синтезирующей B12 так и в составе магний хелотазой, синтезирующей хлорофил. То есть  `chlD` некий \"универсальный\" ген - в зависимости от того, где он находится, можно сказать в каком биохимическом пути он участвует.\n",
    "\n",
    "**Например**: кобальт-хелотаза закодирована в гене `cobN`. Значит если `chlH` находится рядом с `cobN`, то ген участвует в биохимическом пути ответственном за синтез витамина B12.\n",
    "\n",
    "Аналогично, большая субъединица магний хелатазы закодированы геном `chlH`. То есть, если ген `chlD` располагается рядом с `chlH`, то вероятно он участвует в синтезе хлорофилла.\n",
    "\n",
    "Для того, чтобы было легче сказать, где будет ген `chlD` принимать участие необходимо доработать весь интерфейс базы данных, чтобы появились опции визуализации расположений генов и а так же другие виды визуализаций. На данный момент часть кода написана. Остается только привезать подготовленные скрипты в бэкен проект. \n",
    "</div>"
   ]
  },
  {
   "cell_type": "code",
   "execution_count": null,
   "metadata": {},
   "outputs": [],
   "source": []
  },
  {
   "cell_type": "code",
   "execution_count": null,
   "metadata": {},
   "outputs": [],
   "source": []
  }
 ],
 "metadata": {
  "kernelspec": {
   "display_name": "Python 3",
   "language": "python",
   "name": "python3"
  },
  "language_info": {
   "codemirror_mode": {
    "name": "ipython",
    "version": 3
   },
   "file_extension": ".py",
   "mimetype": "text/x-python",
   "name": "python",
   "nbconvert_exporter": "python",
   "pygments_lexer": "ipython3",
   "version": "3.7.9"
  }
 },
 "nbformat": 4,
 "nbformat_minor": 4
}
